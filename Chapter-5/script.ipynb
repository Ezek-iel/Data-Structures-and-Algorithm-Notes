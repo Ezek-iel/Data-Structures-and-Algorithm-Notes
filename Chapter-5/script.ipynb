{
 "cells": [
  {
   "cell_type": "markdown",
   "metadata": {},
   "source": [
    "> __This is mostly notes__\n",
    "\n",
    "# Hashmaps\n",
    "A hashmap is made up of hash functions. A __hash function__ maps a string to a number which will position the value stored in the hash-array\n",
    "\n",
    "## Requirements for hash functions\n",
    "\n",
    "1. It should be consistent such that $f(A) => B$ and $f(A) => C$ is wrong\n",
    "\n",
    "A hash map is basically:  \n",
    "A hash function + Array (_also called a hash table_)\n",
    "\n",
    "Python has implementation of hashtables called _dictionaries_\n",
    "\n",
    "## Use cases of hash tables\n",
    "1. Phone books\n",
    "2. DNS resolutions (_mapping an url to an ipaddress_)\n",
    "3. Preventing duplicate events by checking if it has already occured\n",
    "4. Hash tables as a cache\n",
    "\n",
    "## Collisions\n",
    "2 keys being assigned to the same position to the hash array. meaning that (__hash functions are really important__)\n",
    "\n",
    "To avoid collision, you need a\n",
    "1. Good load factor\n",
    "2. A good hash function\n",
    "\n",
    "$$\n",
    "Load \\space Factor = \\frac{No \\space of \\space items \\space in \\space the \\space Hash \\space Table}{Total \\space Number \\space of \\space slots}\n",
    "$$\n",
    "\n",
    "As the load factor grows more than __0.7__ you need to add more slots to your array by;  \n",
    "> Increasing the array to __twice the size__\n",
    "\n",
    "A bad hash function causes a lot of collisions. also hash tables are great for catching duplicates"
   ]
  }
 ],
 "metadata": {
  "kernelspec": {
   "display_name": ".venv",
   "language": "python",
   "name": "python3"
  },
  "language_info": {
   "name": "python",
   "version": "3.11.9"
  }
 },
 "nbformat": 4,
 "nbformat_minor": 2
}

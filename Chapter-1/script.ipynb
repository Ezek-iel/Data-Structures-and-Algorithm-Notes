{
 "cells": [
  {
   "cell_type": "markdown",
   "metadata": {},
   "source": [
    "## Introduction to Algorithms\n",
    "---"
   ]
  },
  {
   "cell_type": "markdown",
   "metadata": {},
   "source": [
    "### Binary Search\n",
    "\n",
    "- Binary search starts searching from the middle of the list, \n",
    "- Its inputs are a sorted list of elements\n",
    "\n",
    "> __Main Point:__ Eliminate half of the numbers with binary search  \n",
    "\n",
    "__100 elements__ takes __7 searches__  \n",
    "__240,000 elements__ takes __18 searches__\n",
    "\n",
    "At worst case:  \n",
    "__Binary search__ will take a $log_2n$ steps for a general list of n  \n",
    "**Simple search** will take n steps for a general list of n \n",
    "\n",
    "Most binary search functions takes a sorted `array` and an `item`. If the item is in the array the `position` of the item is returned\n",
    "\n",
    "__These are the steps__"
   ]
  },
  {
   "cell_type": "code",
   "execution_count": 3,
   "metadata": {},
   "outputs": [
    {
     "data": {
      "text/plain": [
       "3"
      ]
     },
     "execution_count": 3,
     "metadata": {},
     "output_type": "execute_result"
    }
   ],
   "source": [
    "def binary_search(elements: list[int], guess: int) -> int | None:\n",
    "\t\"\"\"Binary Search Algorithm\n",
    "\t\n",
    "\t**Keyword arguments**:  \n",
    "\t**elements** -- a sorted list of elements  \n",
    "\t**Return**: the position of target in elements or None\n",
    "\t\"\"\"\n",
    "\t\n",
    "\t#* Check out the part of the array you have to search through\n",
    "\tleft_pointer : int = 0\n",
    "\tright_pointer : int = len(elements) - 1\n",
    "\n",
    "\t#* Create the middle elements\n",
    "\tmiddle_position = (left_pointer + right_pointer) // 2\n",
    "\tmiddle_element = elements[middle_position]\n",
    "\n",
    "\twhile left_pointer < right_pointer: #* While you haven't narrowed it down to one element\n",
    "\t\tif guess < middle_element: #* If your guess was too low\n",
    "\t\t\t#* Set left to mid\n",
    "\t\t\tleft_pointer = middle_element + 1 #! Increase your left pointer by 1\n",
    "\t\telif guess == middle_element: #* If your guess was just right\n",
    "\t\t\treturn middle_position #! Return the position\n",
    "\t\telse: #* If your guess too high\n",
    "\t\t\t#* Set right to mid\n",
    "\t\t\tright_pointer = middle_element - 1 #! Reduce your right pointer by 1\n",
    "\t\n",
    "\treturn None\n",
    "\n",
    "binary_search([i for i in range(1,8)], 4) #? Should return 3\n"
   ]
  },
  {
   "cell_type": "markdown",
   "metadata": {},
   "source": [
    "### Running Time of Algorithms\n",
    "When it comes to the running time of an algorithm, you will want to choose the most efficient in terms of __time__ and __space__  \n",
    "\n",
    "The __Simple Search__ is called __Linear Search__ and runs in linear time because for `n` elements it takes an `n` amount of searches  '\n",
    "\n",
    "The __Binary Search__ is called runs in logarithmic time because for `n` elements, it takes $log_2n$ amount of seconds\n",
    "\n",
    "Big O notation tells you how fast an algoritm is by comparing the number of operations. Hence, it tells you how fast an algorithm grows\n",
    "\n",
    "Also Big O notation is always about the worst case scenario - meaning that an algorithm can never be slower than its worst case scenario\n",
    "\n",
    "---\n",
    "#### 5 Common BigO runtimes\n",
    "1. $O(log_2n)$ (logarithmic time)\n",
    "2. $O(n)$ (linear time)\n",
    "3. $O(nlog_2n)$ (fast sorting)\n",
    "4. $O(n^2)$ (slow sorting)\n",
    "5. $O(n!)$ (A very slow algorithm)\n"
   ]
  }
 ],
 "metadata": {
  "kernelspec": {
   "display_name": "Python 3",
   "language": "python",
   "name": "python3"
  },
  "language_info": {
   "codemirror_mode": {
    "name": "ipython",
    "version": 3
   },
   "file_extension": ".py",
   "mimetype": "text/x-python",
   "name": "python",
   "nbconvert_exporter": "python",
   "pygments_lexer": "ipython3",
   "version": "3.11.9"
  }
 },
 "nbformat": 4,
 "nbformat_minor": 2
}

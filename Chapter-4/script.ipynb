{
 "cells": [
  {
   "cell_type": "markdown",
   "metadata": {},
   "source": [
    "# QuickSort and Divide and Conquer\n",
    "\n",
    "There are 2 ways to solve a D&C problem\n",
    "1. Figure out the base case of the problem (_the simplest possible case_)\n",
    "2. Reduce the problem to its base case\n"
   ]
  },
  {
   "cell_type": "code",
   "execution_count": 22,
   "metadata": {},
   "outputs": [
    {
     "name": "stdout",
     "output_type": "stream",
     "text": [
      "False\n"
     ]
    }
   ],
   "source": [
    "def recursive_sum(array: list[int]) -> int:\n",
    "    \"\"\"\n",
    "    Use recursion to sum all the elements of an array\n",
    "    \"\"\"\n",
    "    if len(array) == 0:\n",
    "        return 0\n",
    "    return array[0] + recursive_sum(array[1:])\n",
    "\n",
    "\n",
    "def recursive_count(array: list[int]) -> int:\n",
    "    \"\"\"\n",
    "    Use recursion to count the number of elements in an array\n",
    "    \"\"\"\n",
    "    if len(array) == 0:\n",
    "        return 0\n",
    "    return 1 + recursive_count(array[1:])\n",
    "\n",
    "def recursive_max(array: list[int]) -> int:\n",
    "    \"\"\"\n",
    "    Find the maximum element in a list using recursion\n",
    "    \"\"\"\n",
    "    if not array:\n",
    "        raise Exception('Empty List')\n",
    "    if len(array) == 1:\n",
    "        return array[0]\n",
    "    return array[0] if array[0] > recursive_max(array[1:]) else recursive_max(array[1:])\n",
    "\n",
    "def recursive_binary_search(array: list[int], target: int) ->  bool:\n",
    "    \"\"\"\n",
    "    Binary search algorithm using recursion\n",
    "    \"\"\"\n",
    "    if not array:\n",
    "        return False \n",
    "    left_pointer = 0\n",
    "    right_pointer = len(array)\n",
    "\n",
    "    midpoint = (left_pointer + right_pointer) // 2\n",
    "    guess = array[midpoint]\n",
    "\n",
    "    if guess == target:\n",
    "        return True\n",
    "    elif guess < target:\n",
    "        return recursive_binary_search(array[midpoint+1:right_pointer], target)\n",
    "    else:\n",
    "        return recursive_binary_search(array[left_pointer:midpoint], target)\n",
    "    \n",
    "print(recursive_binary_search([1,2,3,4,5,6,7,8], 9))\n",
    "    \n",
    "    \n"
   ]
  },
  {
   "cell_type": "markdown",
   "metadata": {},
   "source": [
    "---\n",
    "## QuickSort\n",
    "\n",
    "1. Find a suitable pivot\n",
    "2. Rearrange based on it.. (_i.e. Move all smaller numbers to the left and alll larger numbers to the right_)\n",
    "3. Do this recursively\n",
    "\n",
    "Here is an implementation of this D&C algorithm"
   ]
  },
  {
   "cell_type": "code",
   "execution_count": 6,
   "metadata": {},
   "outputs": [],
   "source": [
    "def quick_sort(array: list[int]) -> list[int]:\n",
    "    if len(array) < 2:\n",
    "        return array\n",
    "    pivot = array[0]\n",
    "    left_elements = [i for i in array if i < pivot]\n",
    "    right_elements = [i for i in array if i > pivot]\n",
    "    return quick_sort(left_elements) + [pivot] + quick_sort(right_elements)"
   ]
  },
  {
   "cell_type": "markdown",
   "metadata": {},
   "source": [
    "## $Big(O)$ analysis\n",
    "\n",
    "Quicksort depends heavily on the pivots you use. Quicksort is an $O(n^2)$ at worst runtime.\n",
    "\n",
    "> The case $O(n)$ is actually $O(c\\times n)$ or $O(c\\times n^2)$.   \n",
    "The constant dosen't really matter.\n",
    "\n",
    "- Selection sort is $O(n^2)$\n",
    "- Merge sort is $O(nlogn)$"
   ]
  }
 ],
 "metadata": {
  "kernelspec": {
   "display_name": ".venv",
   "language": "python",
   "name": "python3"
  },
  "language_info": {
   "codemirror_mode": {
    "name": "ipython",
    "version": 3
   },
   "file_extension": ".py",
   "mimetype": "text/x-python",
   "name": "python",
   "nbconvert_exporter": "python",
   "pygments_lexer": "ipython3",
   "version": "3.11.9"
  }
 },
 "nbformat": 4,
 "nbformat_minor": 2
}

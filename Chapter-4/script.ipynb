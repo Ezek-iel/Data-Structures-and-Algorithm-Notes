{
 "cells": [
  {
   "cell_type": "markdown",
   "metadata": {},
   "source": [
    "## Quicksort and Divide and Conquer\n",
    "---\n",
    "Three main steps in solving D&C problems\n",
    "\n",
    "1. Figure out the base case of the problem\n",
    "2. Decrease your problem until it becomes the base case"
   ]
  },
  {
   "cell_type": "code",
   "execution_count": 13,
   "metadata": {},
   "outputs": [
    {
     "data": {
      "text/plain": [
       "-inf"
      ]
     },
     "execution_count": 13,
     "metadata": {},
     "output_type": "execute_result"
    }
   ],
   "source": [
    "def recursive_sum(array):\n",
    "    total = 0\n",
    "    for item in array:\n",
    "        if type(item) != type([]):\n",
    "            total += item\n",
    "        else:\n",
    "             total += recursive_sum(array)\n",
    "    return total\n",
    "\n",
    "def recursive_count(array, item):\n",
    "    count = 0\n",
    "    for element in array:\n",
    "            if element == item:\n",
    "                count += 1\n",
    "        else:\n",
    "            count += recursive_count(array, item)\n",
    "    return count\n",
    "\n",
    "def recursive_max(array):\n",
    "    maximum = float('-inf')\n",
    "    for element in array:\n",
    "        if type(element) != type([]):\n",
    "            if element > maximum:\n",
    "                element = maximum\n",
    "        else:\n",
    "            recursive_max(array)\n",
    "    return maximum\n",
    "\n",
    "recursive_max([1,2,3,4.])"
   ]
  }
 ],
 "metadata": {
  "kernelspec": {
   "display_name": "Python 3",
   "language": "python",
   "name": "python3"
  },
  "language_info": {
   "codemirror_mode": {
    "name": "ipython",
    "version": 3
   },
   "file_extension": ".py",
   "mimetype": "text/x-python",
   "name": "python",
   "nbconvert_exporter": "python",
   "pygments_lexer": "ipython3",
   "version": "3.11.9"
  }
 },
 "nbformat": 4,
 "nbformat_minor": 2
}

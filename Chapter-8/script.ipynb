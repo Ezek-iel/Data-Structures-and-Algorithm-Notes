{
 "cells": [
  {
   "cell_type": "markdown",
   "metadata": {},
   "source": [
    "# Greedy Algorithms\n",
    "\n",
    "Greedy algorithm involves\n",
    "\n",
    "1. At each step pick the optimal move \n",
    "or\n",
    "\n",
    "Pick the locally optimal solution and in the end you are left with the globally optimal solution\n",
    "\n",
    "Greedy algorithms are simple to implement but dont work at times\n",
    "\n",
    "__Lesson__: Perfect is the enemy of good _sometimes_\n",
    "\n",
    "> An approximation algorithm is used when the exact algoruthm will take too much time.\n",
    "\n",
    "## Set Covering Problem\n",
    "You are trying to find a set that covers as much available items as possible.  \n",
    "__Observe this table of stations to broadcasting states.__\n",
    "\n",
    "```\n",
    "K1 -> ID, NV, UT\n",
    "K2 -> WA, ID, MT\n",
    "K3 -> OR, NV, CA\n",
    "K4 -> NV, UT\n",
    "K5 -> CA, AZ\n",
    "```\n",
    "\n",
    "### Approximation Algorithms\n",
    "1. Pick the set that has covered the most item that hasn't been covered before regardless if some element have been covered before.\n",
    "2. Repeat until all states are covered.\n",
    "\n",
    "__Steps__\n",
    "- Generate a set of items to be picked from\n",
    "- Use a hash map to set items.\n",
    "- Have something you will use to hold the final set of stations.\n",
    "- Add the best station to the final station\n",
    "\n",
    "##### TIPS\n",
    "- The difference of a set is the elements of setA that are not in setB\n",
    "\n"
   ]
  },
  {
   "cell_type": "code",
   "execution_count": 1,
   "metadata": {},
   "outputs": [
    {
     "name": "stdout",
     "output_type": "stream",
     "text": [
      "{'k2', 'k3', 'k1', 'k5'}\n"
     ]
    }
   ],
   "source": [
    "from pprint import pprint\n",
    "\n",
    "all_states = set([\"ID\", \"NV\", \"UT\", \"WA\", \"ID\", \"MT\", \"OR\", \"NV\", \"UT\", \"CA\", \"AZ\"])\n",
    "stations: dict[str, set[str]] = dict()\n",
    "\n",
    "stations[\"k1\"] = set([\"ID\", \"NV\", \"UT\"])\n",
    "stations[\"k2\"] = set([\"WA\", \"ID\", \"MT\"])\n",
    "stations[\"k3\"] = set([\"OR\", \"NV\", \"CA\"])\n",
    "stations[\"k4\"] = set([\"NV\", \"UT\"])\n",
    "stations[\"k5\"] = set([\"CA\", \"AZ\"])\n",
    "\n",
    "\n",
    "final_states = set()\n",
    "while all_states:\n",
    "    best_station = None\n",
    "    states_covered = set()\n",
    "    for station, states_for_station in stations.items():\n",
    "        covered = states_for_station & all_states\n",
    "\n",
    "        if len(covered) > len(states_covered):\n",
    "            best_station = station\n",
    "            states_covered = covered\n",
    "    all_states -= states_covered\n",
    "    final_states.add(best_station)\n",
    "\n",
    "\n",
    "pprint(final_states)"
   ]
  }
 ],
 "metadata": {
  "kernelspec": {
   "display_name": ".venv",
   "language": "python",
   "name": "python3"
  },
  "language_info": {
   "codemirror_mode": {
    "name": "ipython",
    "version": 3
   },
   "file_extension": ".py",
   "mimetype": "text/x-python",
   "name": "python",
   "nbconvert_exporter": "python",
   "pygments_lexer": "ipython3",
   "version": "3.11.9"
  }
 },
 "nbformat": 4,
 "nbformat_minor": 2
}

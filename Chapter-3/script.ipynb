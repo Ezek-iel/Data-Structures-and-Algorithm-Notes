{
 "cells": [
  {
   "cell_type": "markdown",
   "metadata": {},
   "source": [
    "## Recursion\n",
    "---\n",
    "\n",
    "Calling a function inside its definition is called recursion\n",
    "\n",
    "There is no performance benefit to using recursion; in fact, loops are better sometimes for performance\n",
    "\n",
    "### Base Case and Recursive Case\n",
    "Every recursive function has 2 parts.  \n",
    "The **recursive case** is when the function calls itself, The **base case** is when the function stops calling itself\n",
    "\n",
    "### The call stack\n",
    "The stack normally contains 2 main operations\n",
    "1. Push -> \tto add an item on top of the stack\n",
    "2. Pop -> to remove an item from the top of the stack\n",
    "\n",
    "The computer uses a call stack internally  \n",
    "When you call a function from another function, the calling function is paused in a partially completed state.\n",
    "\n",
    "Calling another function inside a function, the second function is kept on top of the call stack\n",
    "\n",
    "Using the call stack is convinient but it takes up memory. if it is taking up too much, you can;\n",
    "1. Rewrite your code as a loop\n",
    "2. Use tail recursion\n",
    "\n",
    "#### Recursive Implementation of some operations\n",
    "1. Multiplication\n",
    "2. Factorial\n",
    "3. Countdown\n",
    "---"
   ]
  },
  {
   "cell_type": "code",
   "execution_count": null,
   "metadata": {},
   "outputs": [],
   "source": [
    "def recursive_multiplication(a : int,b : int) -> int:\n",
    "    if b <= 0:\n",
    "        return b\n",
    "    else:\n",
    "        return b + recursive_multiplication(a, b - 1)\n",
    "    \n",
    "def recursive_factorial(a: int) -> int:\n",
    "    if a == 0:\n",
    "        return a\n",
    "    else:\n",
    "        return a * recursive_factorial(a - 1)\n",
    "\n",
    "def recursive_countdown(number: int) -> None:\n",
    "    if number == 0:\n",
    "        return\n",
    "    print(number)\n",
    "    recursive_countdown(number - 1)\t\n",
    "\n",
    "recursive_countdown(30)\n",
    "#! ASSIGNMENT: Implement the same in Javascript"
   ]
  }
 ],
 "metadata": {
  "kernelspec": {
   "display_name": "Python 3",
   "language": "python",
   "name": "python3"
  },
  "language_info": {
   "codemirror_mode": {
    "name": "ipython",
    "version": 3
   },
   "file_extension": ".py",
   "mimetype": "text/x-python",
   "name": "python",
   "nbconvert_exporter": "python",
   "pygments_lexer": "ipython3",
   "version": "3.11.9"
  }
 },
 "nbformat": 4,
 "nbformat_minor": 2
}
